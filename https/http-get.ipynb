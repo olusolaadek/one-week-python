{
 "cells": [
  {
   "cell_type": "code",
   "execution_count": 11,
   "metadata": {},
   "outputs": [
    {
     "name": "stdout",
     "output_type": "stream",
     "text": [
      "b'{\"ResponseCode\":\"0\",\"ResponseMessage\":\"Success\",\"titles\":[{\"TitleId\":1,\"Name\":\"Mr\"},{\"TitleId\":2,\"Name\":\"Mrs\"},{\"TitleId\":3,\"Name\":\"Miss\"}]}'\n",
      "-------------- RESPONSE -----------------\n",
      "{'ResponseCode': '0', 'ResponseMessage': 'Success', 'titles': [{'TitleId': 1, 'Name': 'Mr'}, {'TitleId': 2, 'Name': 'Mrs'}, {'TitleId': 3, 'Name': 'Miss'}]}\n"
     ]
    },
    {
     "ename": "AttributeError",
     "evalue": "'dict' object has no attribute 'titles'",
     "output_type": "error",
     "traceback": [
      "\u001b[1;31m---------------------------------------------------------------------------\u001b[0m",
      "\u001b[1;31mAttributeError\u001b[0m                            Traceback (most recent call last)",
      "\u001b[1;32mc:\\workspace\\py_dev\\one-week-python\\https\\http-get.ipynb Cell 1\u001b[0m in \u001b[0;36m<cell line: 10>\u001b[1;34m()\u001b[0m\n\u001b[0;32m     <a href='vscode-notebook-cell:/c%3A/workspace/py_dev/one-week-python/https/http-get.ipynb#W0sZmlsZQ%3D%3D?line=11'>12</a>\u001b[0m     \u001b[39mprint\u001b[39m(\u001b[39m'\u001b[39m\u001b[39m-------------- RESPONSE -----------------\u001b[39m\u001b[39m'\u001b[39m)\n\u001b[0;32m     <a href='vscode-notebook-cell:/c%3A/workspace/py_dev/one-week-python/https/http-get.ipynb#W0sZmlsZQ%3D%3D?line=12'>13</a>\u001b[0m     \u001b[39mprint\u001b[39m(content)\n\u001b[1;32m---> <a href='vscode-notebook-cell:/c%3A/workspace/py_dev/one-week-python/https/http-get.ipynb#W0sZmlsZQ%3D%3D?line=13'>14</a>\u001b[0m     \u001b[39mprint\u001b[39m(content\u001b[39m.\u001b[39;49mtitles)\n\u001b[0;32m     <a href='vscode-notebook-cell:/c%3A/workspace/py_dev/one-week-python/https/http-get.ipynb#W0sZmlsZQ%3D%3D?line=14'>15</a>\u001b[0m \u001b[39melse\u001b[39;00m:\n\u001b[0;32m     <a href='vscode-notebook-cell:/c%3A/workspace/py_dev/one-week-python/https/http-get.ipynb#W0sZmlsZQ%3D%3D?line=15'>16</a>\u001b[0m     \u001b[39mprint\u001b[39m(\u001b[39m'\u001b[39m\u001b[39mThe data could not be loaded\u001b[39m\u001b[39m'\u001b[39m)\n",
      "\u001b[1;31mAttributeError\u001b[0m: 'dict' object has no attribute 'titles'"
     ]
    }
   ],
   "source": [
    "import json\n",
    "import requests\n",
    "\n",
    "response = requests.get('https://services.palpensions.com/api/Reg2/GetTitle')\n",
    "\n",
    "# print( response)\n",
    "# print( response.status_code)\n",
    "# print(response.headers)\n",
    "print(response.content)\n",
    "if response.status_code==200:\n",
    "    content = response.json()\n",
    "    print('-------------- RESPONSE -----------------')\n",
    "    print(content)\n",
    "    print(content['titles'])\n",
    "else:\n",
    "    print('The data could not be loaded')\n"
   ]
  },
  {
   "cell_type": "code",
   "execution_count": null,
   "metadata": {},
   "outputs": [],
   "source": []
  }
 ],
 "metadata": {
  "kernelspec": {
   "display_name": "base",
   "language": "python",
   "name": "python3"
  },
  "language_info": {
   "codemirror_mode": {
    "name": "ipython",
    "version": 3
   },
   "file_extension": ".py",
   "mimetype": "text/x-python",
   "name": "python",
   "nbconvert_exporter": "python",
   "pygments_lexer": "ipython3",
   "version": "3.9.12"
  },
  "orig_nbformat": 4,
  "vscode": {
   "interpreter": {
    "hash": "bf901889ee384da44f542d28cfb79b59fb5e53a92245e2435aa3dc996455509b"
   }
  }
 },
 "nbformat": 4,
 "nbformat_minor": 2
}
