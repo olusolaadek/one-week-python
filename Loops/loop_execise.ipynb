{
 "cells": [
  {
   "cell_type": "markdown",
   "metadata": {},
   "source": [
    "Write a program that uses nested loops to draw this pattern:\n",
    "*******\n",
    "******\n",
    "*****\n",
    "****\n",
    "***\n",
    "**\n",
    "*"
   ]
  },
  {
   "cell_type": "code",
   "execution_count": 1,
   "metadata": {},
   "outputs": [
    {
     "name": "stdout",
     "output_type": "stream",
     "text": [
      "*******\n",
      "******\n",
      "*****\n",
      "****\n",
      "***\n",
      "**\n",
      "*\n"
     ]
    }
   ],
   "source": [
    "n=7\n",
    "while n> 0:\n",
    "    print('*'*n)\n",
    "    n-=1\n",
    "    "
   ]
  },
  {
   "cell_type": "markdown",
   "metadata": {},
   "source": [
    "Write a program that uses nested loops to draw this pattern:\n",
    "##\n",
    "# #\n",
    "#  #\n",
    "#   #\n",
    "#    #\n",
    "#     #"
   ]
  },
  {
   "cell_type": "code",
   "execution_count": 11,
   "metadata": {},
   "outputs": [
    {
     "name": "stdout",
     "output_type": "stream",
     "text": [
      "##\n",
      "# #\n",
      "#  #\n",
      "#   #\n",
      "#    #\n",
      "#     #\n"
     ]
    }
   ],
   "source": [
    "i=0\n",
    "c='#'\n",
    "while i<=5:\n",
    "    print(c,c, sep=\" \"*i)\n",
    "    i+=1"
   ]
  },
  {
   "cell_type": "markdown",
   "metadata": {},
   "source": [
    "### Turtle Graphics: Using Loops to Draw Designs\n",
    "CONCEPT: You can use loops to draw graphics that range in complexity from simple shapes to elaborate designs"
   ]
  },
  {
   "cell_type": "code",
   "execution_count": 4,
   "metadata": {},
   "outputs": [],
   "source": [
    "# for loop iterates four times to draw a square that is 100 pixels wide\n",
    "import turtle\n",
    "\n",
    "for i in range(4):\n",
    "    turtle.forward(100)\n",
    "    turtle.right(90)"
   ]
  },
  {
   "cell_type": "code",
   "execution_count": 7,
   "metadata": {},
   "outputs": [
    {
     "ename": "",
     "evalue": "",
     "output_type": "error",
     "traceback": [
      "\u001b[1;31mThe Kernel crashed while executing code in the the current cell or a previous cell. Please review the code in the cell(s) to identify a possible cause of the failure. Click <a href='https://aka.ms/vscodeJupyterKernelCrash'>here</a> for more info. View Jupyter <a href='command:jupyter.viewOutput'>log</a> for further details."
     ]
    }
   ],
   "source": [
    "import turtle\n",
    "# Named constants\n",
    "NUM_CIRCLES = 20\n",
    "STARTING_RADIUS = 20\n",
    "OFFSET = 10\n",
    "ANIMATION_SPEED = 0\n",
    "\n",
    "# setup the turtle\n",
    "turtle.speed(ANIMATION_SPEED)\n",
    "turtle.hideturtle()\n",
    "\n",
    "# set the radioud of circle\n",
    "radius = STARTING_RADIUS\n",
    "\n",
    "# Draw the circles\n",
    "for count in range(NUM_CIRCLES):\n",
    "    # Draw the circle\n",
    "    turtle.circle(radius)\n",
    "\n",
    "    # Get the coordinates for the next circle\n",
    "    x = turtle.xcor()\n",
    "    y = turtle.ycor() - OFFSET\n",
    "\n",
    "    # Calculate radius fpr the next circle\n",
    "    turtle.penup()\n",
    "    turtle.goto(x, y)\n",
    "    turtle.pendown()\n"
   ]
  },
  {
   "cell_type": "code",
   "execution_count": null,
   "metadata": {},
   "outputs": [],
   "source": []
  }
 ],
 "metadata": {
  "kernelspec": {
   "display_name": "Python 3.10.6 ('DataScienceIn30Days')",
   "language": "python",
   "name": "python3"
  },
  "language_info": {
   "codemirror_mode": {
    "name": "ipython",
    "version": 3
   },
   "file_extension": ".py",
   "mimetype": "text/x-python",
   "name": "python",
   "nbconvert_exporter": "python",
   "pygments_lexer": "ipython3",
   "version": "3.10.6"
  },
  "orig_nbformat": 4,
  "vscode": {
   "interpreter": {
    "hash": "c7070dddcf2db5a5fc99231f28907f9c995deb2e790ecaaafba5703f54e2f94a"
   }
  }
 },
 "nbformat": 4,
 "nbformat_minor": 2
}
