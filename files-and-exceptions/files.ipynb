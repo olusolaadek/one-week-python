{
 "cells": [
  {
   "cell_type": "code",
   "execution_count": 2,
   "metadata": {},
   "outputs": [
    {
     "data": {
      "text/plain": [
       "<_io.TextIOWrapper name='dates.txt' mode='r' encoding='cp1252'>"
      ]
     },
     "execution_count": 2,
     "metadata": {},
     "output_type": "execute_result"
    }
   ],
   "source": [
    "text_file = open(\"dates.txt\", mode='r')\n",
    "text_file"
   ]
  },
  {
   "cell_type": "code",
   "execution_count": 12,
   "metadata": {},
   "outputs": [],
   "source": [
    "from datetime import datetime\n",
    "file1 = open(\n",
    "    r'C:\\Users\\olusola.adekunle\\OneDrive - PAL Pensions\\Documents\\debug.log', 'a')\n",
    "file1.write(f\"[{datetime.utcnow()}::INFO] - This is a saple text\\n\")\n",
    "file1.close()\n"
   ]
  },
  {
   "cell_type": "markdown",
   "metadata": {},
   "source": [
    "### Reading Data From a File"
   ]
  },
  {
   "cell_type": "code",
   "execution_count": 13,
   "metadata": {},
   "outputs": [
    {
     "name": "stdout",
     "output_type": "stream",
     "text": [
      "day\tmnth\tyear\n",
      "1\t1\t2011\n",
      "2\t1\t2011\n",
      "3\t1\t2011\n",
      "4\t1\t2011\n",
      "5\t1\t2011\n",
      "6\t1\t2011\n",
      "7\t1\t2011\n",
      "8\t1\t2011\n",
      "9\t1\t2011\n",
      "\n"
     ]
    }
   ],
   "source": [
    "file2 = open(\"dates.txt\", 'r')\n",
    "file_content = file2.read()\n",
    "file2.close()\n",
    "\n",
    "print(file_content)"
   ]
  },
  {
   "cell_type": "code",
   "execution_count": 14,
   "metadata": {},
   "outputs": [
    {
     "name": "stdout",
     "output_type": "stream",
     "text": [
      "['day\\tmnth\\tyear\\n', '1\\t1\\t2011\\n', '2\\t1\\t2011\\n', '3\\t1\\t2011\\n', '4\\t1\\t2011\\n', '5\\t1\\t2011\\n', '6\\t1\\t2011\\n', '7\\t1\\t2011\\n', '8\\t1\\t2011\\n', '9\\t1\\t2011\\n']\n"
     ]
    }
   ],
   "source": [
    "file2 = open(\"dates.txt\", 'r')\n",
    "file_content = file2.readlines()\n",
    "file2.close()\n",
    "\n",
    "print(file_content)\n"
   ]
  },
  {
   "cell_type": "code",
   "execution_count": 19,
   "metadata": {},
   "outputs": [
    {
     "name": "stdout",
     "output_type": "stream",
     "text": [
      "day\tmnth\tyear\n",
      "1\t1\t2011\n",
      "2\t1\t2011\n",
      "3\t1\t2011\n",
      "4\t1\t2011\n",
      "5\t1\t2011\n",
      "6\t1\t2011\n",
      "7\t1\t2011\n",
      "8\t1\t2011\n",
      "9\t1\t2011\n"
     ]
    }
   ],
   "source": [
    "for line in file_content:\n",
    "    print(line.rstrip('\\n'))"
   ]
  },
  {
   "cell_type": "code",
   "execution_count": 16,
   "metadata": {},
   "outputs": [],
   "source": [
    "file1=open(\"names.txt\", 'w')\n",
    "file1.write(\"Ade\\n\")\n",
    "file1.write(\"Olu\\n\")\n",
    "file1.write(\"Festus\\n\")\n",
    "file1.close()\n",
    "\n",
    "\n"
   ]
  },
  {
   "cell_type": "markdown",
   "metadata": {},
   "source": [
    "Reading a String and Stripping the Newline from It"
   ]
  },
  {
   "cell_type": "code",
   "execution_count": 20,
   "metadata": {},
   "outputs": [
    {
     "name": "stdout",
     "output_type": "stream",
     "text": [
      "day\tmnth\tyear\n",
      "1\t1\t2011\n",
      "2\t1\t2011\n",
      "3\t1\t2011\n",
      "4\t1\t2011\n",
      "5\t1\t2011\n",
      "6\t1\t2011\n",
      "7\t1\t2011\n",
      "8\t1\t2011\n",
      "9\t1\t2011\n"
     ]
    }
   ],
   "source": [
    "for line in file_content:\n",
    "    print(line.rstrip('\\n'))\n"
   ]
  },
  {
   "cell_type": "code",
   "execution_count": null,
   "metadata": {},
   "outputs": [],
   "source": []
  }
 ],
 "metadata": {
  "kernelspec": {
   "display_name": "Python 3.10.8 64-bit",
   "language": "python",
   "name": "python3"
  },
  "language_info": {
   "codemirror_mode": {
    "name": "ipython",
    "version": 3
   },
   "file_extension": ".py",
   "mimetype": "text/x-python",
   "name": "python",
   "nbconvert_exporter": "python",
   "pygments_lexer": "ipython3",
   "version": "3.10.8"
  },
  "orig_nbformat": 4,
  "vscode": {
   "interpreter": {
    "hash": "369f2c481f4da34e4445cda3fffd2e751bd1c4d706f27375911949ba6bb62e1c"
   }
  }
 },
 "nbformat": 4,
 "nbformat_minor": 2
}
