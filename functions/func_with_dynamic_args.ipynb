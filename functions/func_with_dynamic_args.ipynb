{
 "cells": [
  {
   "cell_type": "markdown",
   "metadata": {},
   "source": [
    "### *args\n",
    "gathers arguments into a tuple\n"
   ]
  },
  {
   "cell_type": "code",
   "execution_count": 5,
   "metadata": {},
   "outputs": [],
   "source": [
    "def average(*args):\n",
    "    total = 0\n",
    "    for arg in args:\n",
    "        total += arg\n",
    "    return total/len(args)\n"
   ]
  },
  {
   "cell_type": "code",
   "execution_count": 7,
   "metadata": {},
   "outputs": [
    {
     "data": {
      "text/plain": [
       "5.333333333333333"
      ]
     },
     "execution_count": 7,
     "metadata": {},
     "output_type": "execute_result"
    }
   ],
   "source": [
    "average(2, 4, 5, 7, 8, 6)\n"
   ]
  },
  {
   "cell_type": "code",
   "execution_count": 13,
   "metadata": {},
   "outputs": [],
   "source": [
    "def sum(*nums):\n",
    "    total =0\n",
    "    for num in nums:\n",
    "        total+= num\n",
    "    return total\n"
   ]
  },
  {
   "cell_type": "code",
   "execution_count": 9,
   "metadata": {},
   "outputs": [
    {
     "data": {
      "text/plain": [
       "15"
      ]
     },
     "execution_count": 9,
     "metadata": {},
     "output_type": "execute_result"
    }
   ],
   "source": [
    "sum(1,2,3,4,5)"
   ]
  },
  {
   "cell_type": "code",
   "execution_count": 10,
   "metadata": {},
   "outputs": [],
   "source": [
    "def silly(first, second, *others):\n",
    "    print(first)\n",
    "    print(second)\n",
    "    print(others)"
   ]
  },
  {
   "cell_type": "code",
   "execution_count": 11,
   "metadata": {},
   "outputs": [
    {
     "name": "stdout",
     "output_type": "stream",
     "text": [
      "True\n",
      "False\n",
      "(12, 'Degree')\n"
     ]
    }
   ],
   "source": [
    "silly(True, False, 12, 'Degree')"
   ]
  },
  {
   "cell_type": "markdown",
   "metadata": {},
   "source": [
    "### **kwargs\n",
    "use ** notation to write functions that accept any number of keyword arguments<br />\n",
    "It evaluates to a dictionary"
   ]
  },
  {
   "cell_type": "code",
   "execution_count": 18,
   "metadata": {},
   "outputs": [],
   "source": [
    "def demo(**kwargs):\n",
    "    print(kwargs)\n",
    "    print(len(kwargs))\n",
    "   "
   ]
  },
  {
   "cell_type": "code",
   "execution_count": 19,
   "metadata": {},
   "outputs": [
    {
     "name": "stdout",
     "output_type": "stream",
     "text": [
      "{'color': 'red', 'shape': 'oval', 'price': 22.45}\n",
      "3\n"
     ]
    }
   ],
   "source": [
    "demo(color='red', shape='oval', price=22.45)\n"
   ]
  },
  {
   "cell_type": "code",
   "execution_count": 25,
   "metadata": {},
   "outputs": [],
   "source": [
    "# iterate over kwargs\n",
    "def print_ages(**names):\n",
    "    for k,v in names.items():\n",
    "        print(f'{k} is {v}')"
   ]
  },
  {
   "cell_type": "code",
   "execution_count": 27,
   "metadata": {},
   "outputs": [
    {
     "name": "stdout",
     "output_type": "stream",
     "text": [
      "Kim is 55\n",
      "Ade is 33\n",
      "Yomi is 34\n"
     ]
    }
   ],
   "source": [
    "print_ages(Kim=55, Ade=33, Yomi=34)"
   ]
  },
  {
   "cell_type": "markdown",
   "metadata": {},
   "source": [
    "### Order of Parameters Matter"
   ]
  },
  {
   "cell_type": "code",
   "execution_count": 28,
   "metadata": {},
   "outputs": [],
   "source": [
    "def display_info(person, status='single', *args):\n",
    "    print(f'person: {person}')\n",
    "    print(f'status: {status}')\n",
    "    print(f'args: {args}')\n"
   ]
  },
  {
   "cell_type": "code",
   "execution_count": 35,
   "metadata": {},
   "outputs": [
    {
     "name": "stdout",
     "output_type": "stream",
     "text": [
      "person: Ade\n",
      "status: married\n",
      "args: ()\n"
     ]
    }
   ],
   "source": [
    "display_info('Ade',status='married', )"
   ]
  },
  {
   "cell_type": "code",
   "execution_count": 36,
   "metadata": {},
   "outputs": [],
   "source": [
    "def add_twice(val, lst=None):\n",
    "    if lst is None:\n",
    "        lst = []\n",
    "    lst.append(val)\n",
    "    lst.append(val)\n",
    "    return lst"
   ]
  },
  {
   "cell_type": "code",
   "execution_count": 37,
   "metadata": {},
   "outputs": [
    {
     "data": {
      "text/plain": [
       "[22, 22]"
      ]
     },
     "execution_count": 37,
     "metadata": {},
     "output_type": "execute_result"
    }
   ],
   "source": [
    "add_twice(22)"
   ]
  },
  {
   "cell_type": "code",
   "execution_count": 38,
   "metadata": {},
   "outputs": [
    {
     "data": {
      "text/plain": [
       "[10, 10]"
      ]
     },
     "execution_count": 38,
     "metadata": {},
     "output_type": "execute_result"
    }
   ],
   "source": [
    "add_twice(10)"
   ]
  },
  {
   "cell_type": "markdown",
   "metadata": {},
   "source": [
    "# Unpacking Args\n",
    "- Turning sequences into separate args"
   ]
  },
  {
   "cell_type": "code",
   "execution_count": 39,
   "metadata": {},
   "outputs": [],
   "source": [
    "def sum(*args):\n",
    "    total=0\n",
    "    for n in args:\n",
    "        total += n\n",
    "    return total\n",
    "\n",
    "    "
   ]
  },
  {
   "cell_type": "code",
   "execution_count": 40,
   "metadata": {},
   "outputs": [
    {
     "data": {
      "text/plain": [
       "10"
      ]
     },
     "execution_count": 40,
     "metadata": {},
     "output_type": "execute_result"
    }
   ],
   "source": [
    "sum(1,2,3,4)"
   ]
  },
  {
   "cell_type": "code",
   "execution_count": 43,
   "metadata": {},
   "outputs": [
    {
     "ename": "TypeError",
     "evalue": "unsupported operand type(s) for +=: 'int' and 'list'",
     "output_type": "error",
     "traceback": [
      "\u001b[1;31m---------------------------------------------------------------------------\u001b[0m",
      "\u001b[1;31mTypeError\u001b[0m                                 Traceback (most recent call last)",
      "\u001b[1;32mc:\\workspace\\py_dev\\one-week-python\\functions\\func_with_dynamic_args.ipynb Cell 22\u001b[0m in \u001b[0;36m<cell line: 4>\u001b[1;34m()\u001b[0m\n\u001b[0;32m      <a href='vscode-notebook-cell:/c%3A/workspace/py_dev/one-week-python/functions/func_with_dynamic_args.ipynb#X32sZmlsZQ%3D%3D?line=0'>1</a>\u001b[0m \u001b[39m# calling sum with a list\u001b[39;00m\n\u001b[0;32m      <a href='vscode-notebook-cell:/c%3A/workspace/py_dev/one-week-python/functions/func_with_dynamic_args.ipynb#X32sZmlsZQ%3D%3D?line=1'>2</a>\u001b[0m \u001b[39m# reurns - TypeError: unsupported operand type(s) for +=: 'int' and 'list'\u001b[39;00m\n\u001b[0;32m      <a href='vscode-notebook-cell:/c%3A/workspace/py_dev/one-week-python/functions/func_with_dynamic_args.ipynb#X32sZmlsZQ%3D%3D?line=2'>3</a>\u001b[0m nums \u001b[39m=\u001b[39m[\u001b[39m1\u001b[39m,\u001b[39m2\u001b[39m,\u001b[39m3\u001b[39m,\u001b[39m4\u001b[39m,\u001b[39m5\u001b[39m]\n\u001b[1;32m----> <a href='vscode-notebook-cell:/c%3A/workspace/py_dev/one-week-python/functions/func_with_dynamic_args.ipynb#X32sZmlsZQ%3D%3D?line=3'>4</a>\u001b[0m \u001b[39msum\u001b[39;49m(nums)\n",
      "\u001b[1;32mc:\\workspace\\py_dev\\one-week-python\\functions\\func_with_dynamic_args.ipynb Cell 22\u001b[0m in \u001b[0;36msum\u001b[1;34m(*args)\u001b[0m\n\u001b[0;32m      <a href='vscode-notebook-cell:/c%3A/workspace/py_dev/one-week-python/functions/func_with_dynamic_args.ipynb#X32sZmlsZQ%3D%3D?line=1'>2</a>\u001b[0m total\u001b[39m=\u001b[39m\u001b[39m0\u001b[39m\n\u001b[0;32m      <a href='vscode-notebook-cell:/c%3A/workspace/py_dev/one-week-python/functions/func_with_dynamic_args.ipynb#X32sZmlsZQ%3D%3D?line=2'>3</a>\u001b[0m \u001b[39mfor\u001b[39;00m n \u001b[39min\u001b[39;00m args:\n\u001b[1;32m----> <a href='vscode-notebook-cell:/c%3A/workspace/py_dev/one-week-python/functions/func_with_dynamic_args.ipynb#X32sZmlsZQ%3D%3D?line=3'>4</a>\u001b[0m     total \u001b[39m+\u001b[39m\u001b[39m=\u001b[39m n\n\u001b[0;32m      <a href='vscode-notebook-cell:/c%3A/workspace/py_dev/one-week-python/functions/func_with_dynamic_args.ipynb#X32sZmlsZQ%3D%3D?line=4'>5</a>\u001b[0m \u001b[39mreturn\u001b[39;00m total\n",
      "\u001b[1;31mTypeError\u001b[0m: unsupported operand type(s) for +=: 'int' and 'list'"
     ]
    }
   ],
   "source": [
    "# calling sum with a list\n",
    "# reurns - TypeError: unsupported operand type(s) for +=: 'int' and 'list'\n",
    "nums =[1,2,3,4,5]\n",
    "sum(nums) "
   ]
  },
  {
   "cell_type": "code",
   "execution_count": 47,
   "metadata": {},
   "outputs": [
    {
     "data": {
      "text/plain": [
       "750"
      ]
     },
     "execution_count": 47,
     "metadata": {},
     "output_type": "execute_result"
    }
   ],
   "source": [
    "# unpack the list\n",
    "nums = [10, 20, 30, 40, 50, 600]\n",
    "sum(*nums)"
   ]
  },
  {
   "cell_type": "code",
   "execution_count": 48,
   "metadata": {},
   "outputs": [
    {
     "data": {
      "text/plain": [
       "[10, 20, 30, 40, 50, 600]"
      ]
     },
     "execution_count": 48,
     "metadata": {},
     "output_type": "execute_result"
    }
   ],
   "source": [
    "nums"
   ]
  },
  {
   "cell_type": "code",
   "execution_count": 51,
   "metadata": {},
   "outputs": [
    {
     "data": {
      "text/plain": [
       "[10, 20, 30, 40, 50, 600, 201, 600]"
      ]
     },
     "execution_count": 51,
     "metadata": {},
     "output_type": "execute_result"
    }
   ],
   "source": [
    "[*nums, 201, 600]"
   ]
  },
  {
   "cell_type": "code",
   "execution_count": null,
   "metadata": {},
   "outputs": [],
   "source": []
  }
 ],
 "metadata": {
  "kernelspec": {
   "display_name": "Python 3.9.12 ('base')",
   "language": "python",
   "name": "python3"
  },
  "language_info": {
   "codemirror_mode": {
    "name": "ipython",
    "version": 3
   },
   "file_extension": ".py",
   "mimetype": "text/x-python",
   "name": "python",
   "nbconvert_exporter": "python",
   "pygments_lexer": "ipython3",
   "version": "3.9.12"
  },
  "orig_nbformat": 4,
  "vscode": {
   "interpreter": {
    "hash": "bf901889ee384da44f542d28cfb79b59fb5e53a92245e2435aa3dc996455509b"
   }
  }
 },
 "nbformat": 4,
 "nbformat_minor": 2
}
