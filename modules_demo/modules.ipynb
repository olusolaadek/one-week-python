{
 "cells": [
  {
   "cell_type": "markdown",
   "metadata": {},
   "source": [
    "### Modules in Python\n",
    "- methods and functionality bundled together\n",
    "- examples include: math, random, statistics, numbers, os"
   ]
  },
  {
   "cell_type": "code",
   "execution_count": 3,
   "metadata": {},
   "outputs": [
    {
     "name": "stdout",
     "output_type": "stream",
     "text": [
      "False\n",
      "True\n"
     ]
    }
   ],
   "source": [
    "import calendar\n",
    "#\n",
    "print(calendar.isleap(2022))\n",
    "print(calendar.isleap(2020))"
   ]
  },
  {
   "cell_type": "code",
   "execution_count": 8,
   "metadata": {},
   "outputs": [
    {
     "data": {
      "text/plain": [
       "1"
      ]
     },
     "execution_count": 8,
     "metadata": {},
     "output_type": "execute_result"
    }
   ],
   "source": [
    "calendar.weekday(2022, 7,26)"
   ]
  },
  {
   "cell_type": "code",
   "execution_count": 12,
   "metadata": {},
   "outputs": [
    {
     "data": {
      "text/plain": [
       "<calendar._localized_day at 0x25f72002cb0>"
      ]
     },
     "execution_count": 12,
     "metadata": {},
     "output_type": "execute_result"
    }
   ],
   "source": [
    "calendar.day_abbr"
   ]
  },
  {
   "cell_type": "code",
   "execution_count": 19,
   "metadata": {},
   "outputs": [
    {
     "name": "stdout",
     "output_type": "stream",
     "text": [
      "0.8939966636005579\n",
      "-0.4480736161291701\n",
      "1.6197751905438615\n"
     ]
    }
   ],
   "source": [
    "import math\n",
    "print(math.sin(90)) \n",
    "print(math.cos(90))\n",
    "print(math.tan(45))"
   ]
  },
  {
   "cell_type": "code",
   "execution_count": 22,
   "metadata": {},
   "outputs": [],
   "source": [
    "from math import sin, cos, tan, log"
   ]
  },
  {
   "cell_type": "code",
   "execution_count": 27,
   "metadata": {},
   "outputs": [
    {
     "data": {
      "text/plain": [
       "4.0"
      ]
     },
     "execution_count": 27,
     "metadata": {},
     "output_type": "execute_result"
    }
   ],
   "source": [
    "log(16, 2)"
   ]
  },
  {
   "cell_type": "markdown",
   "metadata": {},
   "source": [
    "### Custom module"
   ]
  },
  {
   "cell_type": "code",
   "execution_count": 28,
   "metadata": {},
   "outputs": [
    {
     "data": {
      "text/plain": [
       "('#e63946', '#f1faee', '#a8dadc', '#1d3557')"
      ]
     },
     "execution_count": 28,
     "metadata": {},
     "output_type": "execute_result"
    }
   ],
   "source": [
    "# import utils module\n",
    "import utils\n",
    "utils.brand_colors"
   ]
  },
  {
   "cell_type": "code",
   "execution_count": 29,
   "metadata": {},
   "outputs": [
    {
     "data": {
      "text/plain": [
       "('#e63946', '#f1faee', '#a8dadc', '#1d3557')"
      ]
     },
     "execution_count": 29,
     "metadata": {},
     "output_type": "execute_result"
    }
   ],
   "source": [
    "from utils import brand_colors\n",
    "brand_colors"
   ]
  },
  {
   "cell_type": "code",
   "execution_count": 30,
   "metadata": {},
   "outputs": [
    {
     "data": {
      "text/plain": [
       "18.0"
      ]
     },
     "execution_count": 30,
     "metadata": {},
     "output_type": "execute_result"
    }
   ],
   "source": [
    "from utils import mean\n",
    "nums = [2,4,6,8,22,66]\n",
    "mean(nums)"
   ]
  },
  {
   "cell_type": "code",
   "execution_count": 31,
   "metadata": {},
   "outputs": [
    {
     "data": {
      "text/plain": [
       "3.0"
      ]
     },
     "execution_count": 31,
     "metadata": {},
     "output_type": "execute_result"
    }
   ],
   "source": [
    "mean((1,2,3,4,5))"
   ]
  },
  {
   "cell_type": "markdown",
   "metadata": {},
   "source": [
    "### 3rd party modules with pip"
   ]
  },
  {
   "cell_type": "code",
   "execution_count": 6,
   "metadata": {},
   "outputs": [],
   "source": [
    "from art import *\n",
    "from translate import *"
   ]
  },
  {
   "cell_type": "code",
   "execution_count": 6,
   "metadata": {},
   "outputs": [
    {
     "name": "stdout",
     "output_type": "stream",
     "text": [
      "c[_] \n",
      "▓⚗_⚗▓ ▓⚗_⚗▓ \n"
     ]
    }
   ],
   "source": [
    "# pip install art\n",
    "\n",
    "from art import *\n",
    "art_1= art(\"coffee\")\n",
    "print(art_1)\n",
    "\n",
    "art_2 =art(\"woman\", number=2) # return multiple art as str\n",
    "print(art_2)"
   ]
  },
  {
   "cell_type": "code",
   "execution_count": 9,
   "metadata": {},
   "outputs": [
    {
     "data": {
      "text/plain": [
       "'`o##o> '"
      ]
     },
     "execution_count": 9,
     "metadata": {},
     "output_type": "execute_result"
    }
   ],
   "source": [
    "art(\"cat\")"
   ]
  },
  {
   "cell_type": "code",
   "execution_count": 8,
   "metadata": {},
   "outputs": [
    {
     "ename": "AttributeError",
     "evalue": "'function' object has no attribute 'text2art'",
     "output_type": "error",
     "traceback": [
      "\u001b[1;31m---------------------------------------------------------------------------\u001b[0m",
      "\u001b[1;31mAttributeError\u001b[0m                            Traceback (most recent call last)",
      "\u001b[1;32mc:\\workspace\\py_dev\\one-week-python\\modules_demo\\modules.ipynb Cell 17\u001b[0m in \u001b[0;36m<cell line: 1>\u001b[1;34m()\u001b[0m\n\u001b[1;32m----> <a href='vscode-notebook-cell:/c%3A/workspace/py_dev/one-week-python/modules_demo/modules.ipynb#X21sZmlsZQ%3D%3D?line=0'>1</a>\u001b[0m art\u001b[39m.\u001b[39;49mtext2art(\u001b[39m'\u001b[39m\u001b[39mHello\u001b[39m\u001b[39m'\u001b[39m)\n",
      "\u001b[1;31mAttributeError\u001b[0m: 'function' object has no attribute 'text2art'"
     ]
    }
   ],
   "source": [
    "art.text2art('Hello')"
   ]
  },
  {
   "cell_type": "code",
   "execution_count": 11,
   "metadata": {},
   "outputs": [],
   "source": [
    "# pip install translate\n",
    "import translate \n",
    "import art"
   ]
  },
  {
   "cell_type": "code",
   "execution_count": 15,
   "metadata": {},
   "outputs": [
    {
     "data": {
      "text/plain": [
       "'\\\\˚ㄥ˚\\\\ '"
      ]
     },
     "execution_count": 15,
     "metadata": {},
     "output_type": "execute_result"
    }
   ],
   "source": [
    "art.art(\"nose\")"
   ]
  },
  {
   "cell_type": "code",
   "execution_count": 16,
   "metadata": {},
   "outputs": [
    {
     "data": {
      "text/plain": [
       "'℃ↂ_ↂↃ '"
      ]
     },
     "execution_count": 16,
     "metadata": {},
     "output_type": "execute_result"
    }
   ],
   "source": [
    "art.art(\"eye\")\n"
   ]
  },
  {
   "cell_type": "code",
   "execution_count": 23,
   "metadata": {},
   "outputs": [
    {
     "data": {
      "text/plain": [
       "'Kaabo, Mo nifẹ rẹ'"
      ]
     },
     "execution_count": 23,
     "metadata": {},
     "output_type": "execute_result"
    }
   ],
   "source": [
    "import translate\n",
    "translator = translate.Translator(to_lang='yo')\n",
    "translator.translate(\"Hello, I love you\")"
   ]
  },
  {
   "cell_type": "markdown",
   "metadata": {},
   "source": [
    "### TextBlob: Simplified Text Processing\n",
    "TextBlob is a Python (2 and 3) library for processing textual data. It provides a simple API for diving into common natural language processing (NLP) tasks such as part-of-speech tagging, noun phrase extraction, sentiment analysis, classification, translation, and more.\n",
    "\n",
    "https://textblob.readthedocs.io/en/dev/#"
   ]
  },
  {
   "cell_type": "code",
   "execution_count": 41,
   "metadata": {},
   "outputs": [
    {
     "name": "stdout",
     "output_type": "stream",
     "text": [
      "['I', 'love', 'my', 'work', 'because', 'it', 'makes', 'me', 'creative', 'so', 'I', 'will', 'be', 'here', 'forever', 'Even', 'though', 'I', 'have', 'some', 'reservation', 'about', 'the', 'work', 'it', 'has', 'been', 'adding', 'values', 'to', 'me']\n",
      "Sentiment(polarity=0.5, subjectivity=0.8)\n"
     ]
    }
   ],
   "source": [
    "from textblob import TextBlob\n",
    "# text=\"This is my office.\" -> Sentiment(polarity=0.0, subjectivity=0.0)\n",
    "# Sentiment(polarity=-0.8, subjectivity=0.9)\n",
    "# text = \"I hate this work beacause of the stress and I will soon quit\"\n",
    "# polarity=0.5, subjectivity=0.6\n",
    "# polarity=0.5, subjectivity=0.8\n",
    "text = \"\"\"I love my work because it helps me to be creative so I will be here forever. \n",
    "Even though I have some reservation about the work, it has been adding values to me\"\"\"\n",
    "blob = TextBlob(text)\n",
    "print(blob.words)\n",
    "print(blob.sentiment)\n",
    "\n"
   ]
  },
  {
   "cell_type": "markdown",
   "metadata": {},
   "source": [
    "### Text2Speech\n",
    "pyttsx3 is a text-to-speech conversion library in Python. Unlike alternative libraries, it works offline.\n",
    "https://github.com/nateshmbhat/pyttsx3"
   ]
  },
  {
   "cell_type": "code",
   "execution_count": 26,
   "metadata": {},
   "outputs": [],
   "source": [
    "import pyttsx3\n",
    "engine = pyttsx3.init()\n",
    " \n",
    "engine.say(\"I will speak this text\")\n",
    "engine.runAndWait()\n"
   ]
  },
  {
   "cell_type": "code",
   "execution_count": 29,
   "metadata": {},
   "outputs": [],
   "source": [
    "engine.say(\"\"\"The king of the north and the king of the south continue to compete for world domination. \n",
    "For example, consider what happened after World War II when the Soviet Union and its allies gained influence over much of Europe. \n",
    "The actions of the king of the north forced the king of the south to form an international military alliance, known as NATO. \"\"\")\n",
    "engine.runAndWait()"
   ]
  }
 ],
 "metadata": {
  "kernelspec": {
   "display_name": "Python 3.9.12 ('base')",
   "language": "python",
   "name": "python3"
  },
  "language_info": {
   "codemirror_mode": {
    "name": "ipython",
    "version": 3
   },
   "file_extension": ".py",
   "mimetype": "text/x-python",
   "name": "python",
   "nbconvert_exporter": "python",
   "pygments_lexer": "ipython3",
   "version": "3.9.12"
  },
  "orig_nbformat": 4,
  "vscode": {
   "interpreter": {
    "hash": "bf901889ee384da44f542d28cfb79b59fb5e53a92245e2435aa3dc996455509b"
   }
  }
 },
 "nbformat": 4,
 "nbformat_minor": 2
}
