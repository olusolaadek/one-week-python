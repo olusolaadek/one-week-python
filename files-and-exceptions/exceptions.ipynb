{
 "cells": [
  {
   "cell_type": "markdown",
   "metadata": {},
   "source": [
    "# Exceptions\n",
    "An exception is an error that occurs while a program is running, causing\n",
    "the program to abruptly halt.\n",
    "\n",
    "There are several ways to write a try/except statement, but the following general format shows the simplest variation:\n",
    "\n",
    "try:\n",
    "- statement\n",
    "- statement\n",
    "- etc.\n",
    "<p>except ExceptionName:</p>\n",
    "- statement\n",
    "- statement\n",
    "etc"
   ]
  },
  {
   "cell_type": "code",
   "execution_count": 2,
   "metadata": {},
   "outputs": [
    {
     "ename": "TypeError",
     "evalue": "unsupported operand type(s) for /: 'int' and 'str'",
     "output_type": "error",
     "traceback": [
      "\u001b[1;31m---------------------------------------------------------------------------\u001b[0m",
      "\u001b[1;31mTypeError\u001b[0m                                 Traceback (most recent call last)",
      "Cell \u001b[1;32mIn [2], line 4\u001b[0m\n\u001b[0;32m      2\u001b[0m num1\u001b[39m=\u001b[39m \u001b[39m20\u001b[39m\n\u001b[0;32m      3\u001b[0m num2\u001b[39m=\u001b[39m \u001b[39m'\u001b[39m\u001b[39mten\u001b[39m\u001b[39m'\u001b[39m\n\u001b[1;32m----> 4\u001b[0m result \u001b[39m=\u001b[39m num1\u001b[39m/\u001b[39;49mnum2\n\u001b[0;32m      5\u001b[0m \u001b[39mprint\u001b[39m(result)\n",
      "\u001b[1;31mTypeError\u001b[0m: unsupported operand type(s) for /: 'int' and 'str'"
     ]
    }
   ],
   "source": [
    "# division\n",
    "# TypeError\n",
    "num1= 20\n",
    "num2= 'ten'\n",
    "# TypeError: unsupported operand type(s) for /: 'int' and 'str'\n",
    "result = num1/num2\n",
    "print(result)"
   ]
  },
  {
   "cell_type": "code",
   "execution_count": 4,
   "metadata": {},
   "outputs": [
    {
     "ename": "ZeroDivisionError",
     "evalue": "division by zero",
     "output_type": "error",
     "traceback": [
      "\u001b[1;31m---------------------------------------------------------------------------\u001b[0m",
      "\u001b[1;31mZeroDivisionError\u001b[0m                         Traceback (most recent call last)",
      "Cell \u001b[1;32mIn [4], line 5\u001b[0m\n\u001b[0;32m      2\u001b[0m num1\u001b[39m=\u001b[39m\u001b[39m12\u001b[39m\n\u001b[0;32m      3\u001b[0m num2 \u001b[39m=\u001b[39m\u001b[39m0\u001b[39m\n\u001b[1;32m----> 5\u001b[0m result \u001b[39m=\u001b[39m num1\u001b[39m/\u001b[39;49m num2\n\u001b[0;32m      6\u001b[0m \u001b[39mprint\u001b[39m(result)\n",
      "\u001b[1;31mZeroDivisionError\u001b[0m: division by zero"
     ]
    }
   ],
   "source": [
    "# ZeroDivisionError\n",
    "num1=12\n",
    "num2 =0\n",
    "\n",
    "result = num1 / num2  # ZeroDivisionError: division by zero\n",
    "print(result) \n",
    "\n"
   ]
  },
  {
   "cell_type": "code",
   "execution_count": 9,
   "metadata": {},
   "outputs": [
    {
     "name": "stdout",
     "output_type": "stream",
     "text": [
      "Cannot divide by zero\n"
     ]
    }
   ],
   "source": [
    "# prevent exceptions by careful coding the program\n",
    "num1 = 12\n",
    "num2 = 0\n",
    "\n",
    "if num2 != 0:\n",
    "    result = num1 / num2\n",
    "    print(result)\n",
    "else:\n",
    "    print('Cannot divide by zero')\n",
    "\n"
   ]
  },
  {
   "cell_type": "markdown",
   "metadata": {},
   "source": [
    "Writing try/except statement"
   ]
  },
  {
   "cell_type": "code",
   "execution_count": 20,
   "metadata": {},
   "outputs": [
    {
     "name": "stdout",
     "output_type": "stream",
     "text": [
      "TYPE ERROR: unsupported operand type(s) for /: 'int' and 'str' \n"
     ]
    }
   ],
   "source": [
    "# ZeroDivisionError\n",
    "num1 = 12\n",
    "num2 = 'two'\n",
    "try:\n",
    "    result = num1 / num2  \n",
    "    print(result)\n",
    "except TypeError as e:\n",
    "    print(f\"TYPE ERROR: {e} \")\n",
    "except ValueError as e:\n",
    "    print(f\"VALUE ERROR: {e} \")\n",
    "except ZeroDivisionError as e:\n",
    "    print(f\"ZERO DIVISION ERROR: {e} \")\n",
    "except Exception as e:\n",
    "    print(f\"GENERIC ERROR: {e} \")\n",
    "    \n",
    "\n",
    "\n"
   ]
  },
  {
   "cell_type": "code",
   "execution_count": 34,
   "metadata": {},
   "outputs": [
    {
     "name": "stdout",
     "output_type": "stream",
     "text": [
      "The code is completed!\n"
     ]
    }
   ],
   "source": [
    "# IOError\n",
    "try:\n",
    "    file1 = open('sample.dat', 'w')\n",
    "except IOError as e:\n",
    "    print(f\"IO ERROR: {e}\")\n",
    "else:  # execute only if no exceptions were raised\n",
    "    file1.write(str(100.0) + '\\n')\n",
    "    file1.write(str(200.0) + '\\n')\n",
    "    file1.write(str(300.0) + '\\n')\n",
    "    file1.close()\n",
    "finally: # Always execute\n",
    "    print(\"The code is completed!\")\n",
    "    "
   ]
  },
  {
   "cell_type": "code",
   "execution_count": 36,
   "metadata": {},
   "outputs": [
    {
     "name": "stdout",
     "output_type": "stream",
     "text": [
      "This code caused a NameError.\n",
      "The end.\n"
     ]
    }
   ],
   "source": [
    "try:\n",
    "    x = float(abc123)\n",
    "    print(x)\n",
    "except ValueError:\n",
    "    print('This code caused a ValueError.')\n",
    "except TypeError:\n",
    "    print('This code caused a TypeError.')\n",
    "except NameError:\n",
    "    print('This code caused a NameError.')\n",
    "print('The end.')\n"
   ]
  },
  {
   "cell_type": "code",
   "execution_count": null,
   "metadata": {},
   "outputs": [],
   "source": []
  }
 ],
 "metadata": {
  "kernelspec": {
   "display_name": "Python 3.10.8 64-bit",
   "language": "python",
   "name": "python3"
  },
  "language_info": {
   "codemirror_mode": {
    "name": "ipython",
    "version": 3
   },
   "file_extension": ".py",
   "mimetype": "text/x-python",
   "name": "python",
   "nbconvert_exporter": "python",
   "pygments_lexer": "ipython3",
   "version": "3.10.8"
  },
  "orig_nbformat": 4,
  "vscode": {
   "interpreter": {
    "hash": "369f2c481f4da34e4445cda3fffd2e751bd1c4d706f27375911949ba6bb62e1c"
   }
  }
 },
 "nbformat": 4,
 "nbformat_minor": 2
}
