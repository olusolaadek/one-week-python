{
 "cells": [
  {
   "cell_type": "markdown",
   "metadata": {},
   "source": [
    "## Dictionary\n",
    "- indexed by keys\n",
    "- holds key-value pairs\n",
    "- keys can be any immutable type: number, strings, tuple, boolean etc\n",
    "- Values can be anything"
   ]
  },
  {
   "cell_type": "code",
   "execution_count": 2,
   "metadata": {},
   "outputs": [
    {
     "data": {
      "text/plain": [
       "{}"
      ]
     },
     "execution_count": 2,
     "metadata": {},
     "output_type": "execute_result"
    }
   ],
   "source": [
    "{}"
   ]
  },
  {
   "cell_type": "code",
   "execution_count": 3,
   "metadata": {},
   "outputs": [
    {
     "data": {
      "text/plain": [
       "{}"
      ]
     },
     "execution_count": 3,
     "metadata": {},
     "output_type": "execute_result"
    }
   ],
   "source": [
    "dict()"
   ]
  },
  {
   "cell_type": "code",
   "execution_count": 4,
   "metadata": {},
   "outputs": [
    {
     "data": {
      "text/plain": [
       "{'cost': 3.5, 'quantity': 2}"
      ]
     },
     "execution_count": 4,
     "metadata": {},
     "output_type": "execute_result"
    }
   ],
   "source": [
    "order={\"cost\": 3.5, \"quantity\": 2}\n",
    "order\n"
   ]
  },
  {
   "cell_type": "code",
   "execution_count": 5,
   "metadata": {},
   "outputs": [
    {
     "data": {
      "text/plain": [
       "{'title': 'Amadeus', 'imdb_score': 8.3}"
      ]
     },
     "execution_count": 5,
     "metadata": {},
     "output_type": "execute_result"
    }
   ],
   "source": [
    "movie={\"title\": \"Amadeus\", \"imdb_score\": 8.3}\n",
    "movie"
   ]
  },
  {
   "cell_type": "code",
   "execution_count": 6,
   "metadata": {},
   "outputs": [
    {
     "data": {
      "text/plain": [
       "{3: 'three'}"
      ]
     },
     "execution_count": 6,
     "metadata": {},
     "output_type": "execute_result"
    }
   ],
   "source": [
    "{3: \"three\"}"
   ]
  },
  {
   "cell_type": "code",
   "execution_count": 7,
   "metadata": {},
   "outputs": [
    {
     "data": {
      "text/plain": [
       "2"
      ]
     },
     "execution_count": 7,
     "metadata": {},
     "output_type": "execute_result"
    }
   ],
   "source": [
    "order[\"quantity\"]"
   ]
  },
  {
   "cell_type": "code",
   "execution_count": 8,
   "metadata": {},
   "outputs": [
    {
     "data": {
      "text/plain": [
       "{'title': 'Amadeus', 'imdb_score': 8.3}"
      ]
     },
     "execution_count": 8,
     "metadata": {},
     "output_type": "execute_result"
    }
   ],
   "source": [
    "movie"
   ]
  },
  {
   "cell_type": "code",
   "execution_count": 9,
   "metadata": {},
   "outputs": [
    {
     "data": {
      "text/plain": [
       "'Amadeus'"
      ]
     },
     "execution_count": 9,
     "metadata": {},
     "output_type": "execute_result"
    }
   ],
   "source": [
    "movie[\"title\"]"
   ]
  },
  {
   "cell_type": "code",
   "execution_count": 10,
   "metadata": {},
   "outputs": [],
   "source": [
    "# movie[\"Title\"] # thriew error - case sensitive\n"
   ]
  },
  {
   "cell_type": "code",
   "execution_count": 11,
   "metadata": {},
   "outputs": [
    {
     "data": {
      "text/plain": [
       "{True: 'LOL', 45: 'hi!'}"
      ]
     },
     "execution_count": 11,
     "metadata": {},
     "output_type": "execute_result"
    }
   ],
   "source": [
    "stuff={True: \"LOL\", 45: \"hi!\"}\n",
    "stuff"
   ]
  },
  {
   "cell_type": "code",
   "execution_count": 12,
   "metadata": {},
   "outputs": [
    {
     "data": {
      "text/plain": [
       "'hi!'"
      ]
     },
     "execution_count": 12,
     "metadata": {},
     "output_type": "execute_result"
    }
   ],
   "source": [
    "stuff[45]"
   ]
  },
  {
   "cell_type": "code",
   "execution_count": 13,
   "metadata": {},
   "outputs": [
    {
     "data": {
      "text/plain": [
       "'Amadeus'"
      ]
     },
     "execution_count": 13,
     "metadata": {},
     "output_type": "execute_result"
    }
   ],
   "source": [
    "movie['title']"
   ]
  },
  {
   "cell_type": "code",
   "execution_count": 14,
   "metadata": {},
   "outputs": [],
   "source": [
    "movie['title'] ='AMADUES'"
   ]
  },
  {
   "cell_type": "code",
   "execution_count": 15,
   "metadata": {},
   "outputs": [
    {
     "data": {
      "text/plain": [
       "'AMADUES'"
      ]
     },
     "execution_count": 15,
     "metadata": {},
     "output_type": "execute_result"
    }
   ],
   "source": [
    "movie['title']"
   ]
  },
  {
   "cell_type": "code",
   "execution_count": 16,
   "metadata": {},
   "outputs": [],
   "source": [
    "movie['language'] = 'English'"
   ]
  },
  {
   "cell_type": "code",
   "execution_count": 17,
   "metadata": {},
   "outputs": [
    {
     "data": {
      "text/plain": [
       "'English'"
      ]
     },
     "execution_count": 17,
     "metadata": {},
     "output_type": "execute_result"
    }
   ],
   "source": [
    "movie['language']"
   ]
  },
  {
   "cell_type": "code",
   "execution_count": 18,
   "metadata": {},
   "outputs": [],
   "source": [
    "movie['rating']='R'"
   ]
  },
  {
   "cell_type": "code",
   "execution_count": 19,
   "metadata": {},
   "outputs": [
    {
     "data": {
      "text/plain": [
       "{'title': 'AMADUES', 'imdb_score': 8.3, 'language': 'English', 'rating': 'R'}"
      ]
     },
     "execution_count": 19,
     "metadata": {},
     "output_type": "execute_result"
    }
   ],
   "source": [
    "movie"
   ]
  },
  {
   "cell_type": "code",
   "execution_count": 20,
   "metadata": {},
   "outputs": [],
   "source": [
    "movie[\"is_great\"] = True"
   ]
  },
  {
   "cell_type": "code",
   "execution_count": 21,
   "metadata": {},
   "outputs": [
    {
     "data": {
      "text/plain": [
       "{'title': 'AMADUES',\n",
       " 'imdb_score': 8.3,\n",
       " 'language': 'English',\n",
       " 'rating': 'R',\n",
       " 'is_great': True}"
      ]
     },
     "execution_count": 21,
     "metadata": {},
     "output_type": "execute_result"
    }
   ],
   "source": [
    "movie"
   ]
  },
  {
   "cell_type": "markdown",
   "metadata": {},
   "source": [
    "### Get method and in operator"
   ]
  },
  {
   "cell_type": "code",
   "execution_count": 22,
   "metadata": {},
   "outputs": [
    {
     "data": {
      "text/plain": [
       "{'arugala': 1.1,\n",
       " 'basil': 2.54,\n",
       " 'blackberries': 4.93,\n",
       " 'blueberries': 2.88,\n",
       " 'coconut': 7.15,\n",
       " 'fennel': 3.6}"
      ]
     },
     "execution_count": 22,
     "metadata": {},
     "output_type": "execute_result"
    }
   ],
   "source": [
    "prices = {\n",
    "    \"arugala\": 1.10,\n",
    "    \"basil\":2.54,\n",
    "    \"blackberries\": 4.93,\n",
    "    \"blueberries\": 2.88,\n",
    "    \"coconut\": 7.15,\n",
    "    \"fennel\": 3.6\n",
    "}\n",
    "prices"
   ]
  },
  {
   "cell_type": "code",
   "execution_count": 23,
   "metadata": {},
   "outputs": [
    {
     "data": {
      "text/plain": [
       "True"
      ]
     },
     "execution_count": 23,
     "metadata": {},
     "output_type": "execute_result"
    }
   ],
   "source": [
    "'coconut' in prices"
   ]
  },
  {
   "cell_type": "markdown",
   "metadata": {},
   "source": [
    "Get method wil look for a given key in a dictionary"
   ]
  },
  {
   "cell_type": "code",
   "execution_count": 24,
   "metadata": {},
   "outputs": [
    {
     "data": {
      "text/plain": [
       "2.54"
      ]
     },
     "execution_count": 24,
     "metadata": {},
     "output_type": "execute_result"
    }
   ],
   "source": [
    "prices.get('basil')"
   ]
  },
  {
   "cell_type": "code",
   "execution_count": 25,
   "metadata": {},
   "outputs": [],
   "source": [
    "prices.get('maggi')"
   ]
  },
  {
   "cell_type": "markdown",
   "metadata": {},
   "source": [
    "### Dictionary pop(), clear() and del"
   ]
  },
  {
   "cell_type": "markdown",
   "metadata": {},
   "source": [
    "list.pop(x)"
   ]
  },
  {
   "cell_type": "code",
   "execution_count": 26,
   "metadata": {},
   "outputs": [
    {
     "data": {
      "text/plain": [
       "{'arugala': 1.1,\n",
       " 'basil': 2.54,\n",
       " 'blackberries': 4.93,\n",
       " 'blueberries': 2.88,\n",
       " 'coconut': 7.15,\n",
       " 'fennel': 3.6}"
      ]
     },
     "execution_count": 26,
     "metadata": {},
     "output_type": "execute_result"
    }
   ],
   "source": [
    "prices"
   ]
  },
  {
   "cell_type": "code",
   "execution_count": 27,
   "metadata": {},
   "outputs": [
    {
     "data": {
      "text/plain": [
       "7.15"
      ]
     },
     "execution_count": 27,
     "metadata": {},
     "output_type": "execute_result"
    }
   ],
   "source": [
    "prices.pop('coconut')"
   ]
  },
  {
   "cell_type": "code",
   "execution_count": 28,
   "metadata": {},
   "outputs": [
    {
     "data": {
      "text/plain": [
       "{'arugala': 1.1,\n",
       " 'basil': 2.54,\n",
       " 'blackberries': 4.93,\n",
       " 'blueberries': 2.88,\n",
       " 'fennel': 3.6}"
      ]
     },
     "execution_count": 28,
     "metadata": {},
     "output_type": "execute_result"
    }
   ],
   "source": [
    "prices"
   ]
  },
  {
   "cell_type": "markdown",
   "metadata": {},
   "source": [
    "popitem()\n",
    "deletes the most recently added key-value pair. It returns the item as a tuple"
   ]
  },
  {
   "cell_type": "code",
   "execution_count": 29,
   "metadata": {},
   "outputs": [
    {
     "data": {
      "text/plain": [
       "{'arugala': 1.1,\n",
       " 'basil': 2.54,\n",
       " 'blackberries': 4.93,\n",
       " 'blueberries': 2.88,\n",
       " 'fennel': 3.6}"
      ]
     },
     "execution_count": 29,
     "metadata": {},
     "output_type": "execute_result"
    }
   ],
   "source": [
    "prices"
   ]
  },
  {
   "cell_type": "code",
   "execution_count": 30,
   "metadata": {},
   "outputs": [
    {
     "data": {
      "text/plain": [
       "('fennel', 3.6)"
      ]
     },
     "execution_count": 30,
     "metadata": {},
     "output_type": "execute_result"
    }
   ],
   "source": [
    "prices.popitem()"
   ]
  },
  {
   "cell_type": "code",
   "execution_count": 31,
   "metadata": {},
   "outputs": [],
   "source": [
    "prices[\"orange\"] = 1.2"
   ]
  },
  {
   "cell_type": "code",
   "execution_count": 32,
   "metadata": {},
   "outputs": [
    {
     "data": {
      "text/plain": [
       "{'arugala': 1.1,\n",
       " 'basil': 2.54,\n",
       " 'blackberries': 4.93,\n",
       " 'blueberries': 2.88,\n",
       " 'orange': 1.2}"
      ]
     },
     "execution_count": 32,
     "metadata": {},
     "output_type": "execute_result"
    }
   ],
   "source": [
    "prices"
   ]
  },
  {
   "cell_type": "code",
   "execution_count": 33,
   "metadata": {},
   "outputs": [
    {
     "data": {
      "text/plain": [
       "('orange', 1.2)"
      ]
     },
     "execution_count": 33,
     "metadata": {},
     "output_type": "execute_result"
    }
   ],
   "source": [
    "prices.popitem()"
   ]
  },
  {
   "cell_type": "code",
   "execution_count": 34,
   "metadata": {},
   "outputs": [
    {
     "data": {
      "text/plain": [
       "{'arugala': 1.1, 'basil': 2.54, 'blackberries': 4.93, 'blueberries': 2.88}"
      ]
     },
     "execution_count": 34,
     "metadata": {},
     "output_type": "execute_result"
    }
   ],
   "source": [
    "prices"
   ]
  },
  {
   "cell_type": "markdown",
   "metadata": {},
   "source": [
    "del \n",
    "removes item but not returning the item"
   ]
  },
  {
   "cell_type": "code",
   "execution_count": 35,
   "metadata": {},
   "outputs": [],
   "source": [
    "del prices[\"basil\"]"
   ]
  },
  {
   "cell_type": "code",
   "execution_count": 36,
   "metadata": {},
   "outputs": [
    {
     "data": {
      "text/plain": [
       "{'arugala': 1.1, 'blackberries': 4.93, 'blueberries': 2.88}"
      ]
     },
     "execution_count": 36,
     "metadata": {},
     "output_type": "execute_result"
    }
   ],
   "source": [
    "prices"
   ]
  },
  {
   "cell_type": "code",
   "execution_count": 37,
   "metadata": {},
   "outputs": [],
   "source": [
    "prices.clear()"
   ]
  },
  {
   "cell_type": "code",
   "execution_count": 38,
   "metadata": {},
   "outputs": [
    {
     "data": {
      "text/plain": [
       "{}"
      ]
     },
     "execution_count": 38,
     "metadata": {},
     "output_type": "execute_result"
    }
   ],
   "source": [
    "prices"
   ]
  },
  {
   "cell_type": "markdown",
   "metadata": {},
   "source": [
    "Dictionaries are mutable"
   ]
  },
  {
   "cell_type": "code",
   "execution_count": 39,
   "metadata": {},
   "outputs": [
    {
     "data": {
      "text/plain": [
       "{1: 'one', 2: 'two'}"
      ]
     },
     "execution_count": 39,
     "metadata": {},
     "output_type": "execute_result"
    }
   ],
   "source": [
    "d1 = {1: \"one\", 2: \"two\"}\n",
    "d1"
   ]
  },
  {
   "cell_type": "code",
   "execution_count": 40,
   "metadata": {},
   "outputs": [],
   "source": [
    "d2 =d1"
   ]
  },
  {
   "cell_type": "code",
   "execution_count": 41,
   "metadata": {},
   "outputs": [
    {
     "name": "stdout",
     "output_type": "stream",
     "text": [
      "2697771720448\n",
      "2697771720448\n"
     ]
    }
   ],
   "source": [
    "print(id(d1))\n",
    "print(id(d2))"
   ]
  },
  {
   "cell_type": "code",
   "execution_count": 42,
   "metadata": {},
   "outputs": [
    {
     "data": {
      "text/plain": [
       "True"
      ]
     },
     "execution_count": 42,
     "metadata": {},
     "output_type": "execute_result"
    }
   ],
   "source": [
    "d1 is d2"
   ]
  },
  {
   "cell_type": "code",
   "execution_count": 43,
   "metadata": {},
   "outputs": [],
   "source": [
    "d3 = d1.copy()"
   ]
  },
  {
   "cell_type": "code",
   "execution_count": 44,
   "metadata": {},
   "outputs": [
    {
     "data": {
      "text/plain": [
       "False"
      ]
     },
     "execution_count": 44,
     "metadata": {},
     "output_type": "execute_result"
    }
   ],
   "source": [
    "d1 is d3"
   ]
  },
  {
   "cell_type": "code",
   "execution_count": 45,
   "metadata": {},
   "outputs": [
    {
     "data": {
      "text/plain": [
       "True"
      ]
     },
     "execution_count": 45,
     "metadata": {},
     "output_type": "execute_result"
    }
   ],
   "source": [
    "d1 == d3"
   ]
  },
  {
   "cell_type": "markdown",
   "metadata": {},
   "source": [
    "### Iterating Dicts: Keys(), values(), items()"
   ]
  },
  {
   "cell_type": "code",
   "execution_count": 46,
   "metadata": {},
   "outputs": [
    {
     "data": {
      "text/plain": [
       "{}"
      ]
     },
     "execution_count": 46,
     "metadata": {},
     "output_type": "execute_result"
    }
   ],
   "source": [
    "prices"
   ]
  },
  {
   "cell_type": "code",
   "execution_count": 47,
   "metadata": {},
   "outputs": [
    {
     "data": {
      "text/plain": [
       "{'arugala': 1.1,\n",
       " 'basil': 2.54,\n",
       " 'blackberries': 4.93,\n",
       " 'blueberries': 2.88,\n",
       " 'fennel': 3.6}"
      ]
     },
     "execution_count": 47,
     "metadata": {},
     "output_type": "execute_result"
    }
   ],
   "source": [
    "prices = {'arugala': 1.1,\n",
    "          'basil': 2.54,\n",
    "          'blackberries': 4.93,\n",
    "          'blueberries': 2.88,\n",
    "          'fennel': 3.6}\n",
    "prices\n"
   ]
  },
  {
   "cell_type": "code",
   "execution_count": 48,
   "metadata": {},
   "outputs": [
    {
     "data": {
      "text/plain": [
       "{'Marsha': 78,\n",
       " 'Baker': 69,\n",
       " 'Rosa': 92,\n",
       " 'Leif': 97,\n",
       " 'Peng': 61,\n",
       " 'Juan': 73,\n",
       " 'Esteban': 84,\n",
       " 'Amir': 91,\n",
       " 'Sakura': 99}"
      ]
     },
     "execution_count": 48,
     "metadata": {},
     "output_type": "execute_result"
    }
   ],
   "source": [
    "test_scores= {\n",
    "    \"Marsha\": 78,\n",
    "    \"Baker\": 69,\n",
    "    \"Rosa\": 92,\n",
    "    \"Leif\": 97,\n",
    "    \"Peng\": 61,\n",
    "    \"Juan\": 73,\n",
    "    \"Esteban\": 84,\n",
    "    \"Amir\": 91,\n",
    "    \"Sakura\": 99\n",
    "}\n",
    "test_scores"
   ]
  },
  {
   "cell_type": "code",
   "execution_count": 49,
   "metadata": {},
   "outputs": [
    {
     "data": {
      "text/plain": [
       "dict_keys(['Marsha', 'Baker', 'Rosa', 'Leif', 'Peng', 'Juan', 'Esteban', 'Amir', 'Sakura'])"
      ]
     },
     "execution_count": 49,
     "metadata": {},
     "output_type": "execute_result"
    }
   ],
   "source": [
    "test_scores.keys()"
   ]
  },
  {
   "cell_type": "code",
   "execution_count": 50,
   "metadata": {},
   "outputs": [
    {
     "data": {
      "text/plain": [
       "dict_values([78, 69, 92, 97, 61, 73, 84, 91, 99])"
      ]
     },
     "execution_count": 50,
     "metadata": {},
     "output_type": "execute_result"
    }
   ],
   "source": [
    "test_scores.values()"
   ]
  },
  {
   "cell_type": "code",
   "execution_count": 51,
   "metadata": {},
   "outputs": [
    {
     "name": "stdout",
     "output_type": "stream",
     "text": [
      "Marsha\n",
      "Baker\n",
      "Rosa\n",
      "Leif\n",
      "Peng\n",
      "Juan\n",
      "Esteban\n",
      "Amir\n",
      "Sakura\n"
     ]
    }
   ],
   "source": [
    "for std in test_scores.keys():\n",
    "    print(std )"
   ]
  },
  {
   "cell_type": "code",
   "execution_count": 52,
   "metadata": {},
   "outputs": [
    {
     "name": "stdout",
     "output_type": "stream",
     "text": [
      "78\n",
      "69\n",
      "92\n",
      "97\n",
      "61\n",
      "73\n",
      "84\n",
      "91\n",
      "99\n"
     ]
    }
   ],
   "source": [
    "for score in test_scores.values():\n",
    "    print(score)"
   ]
  },
  {
   "cell_type": "code",
   "execution_count": 53,
   "metadata": {},
   "outputs": [
    {
     "name": "stdout",
     "output_type": "stream",
     "text": [
      "82.66666666666667\n"
     ]
    }
   ],
   "source": [
    "# avarage\n",
    "total =0\n",
    "for score in test_scores.values():\n",
    "    total += score\n",
    "avg = total/ len(test_scores)\n",
    "print(avg)"
   ]
  },
  {
   "cell_type": "code",
   "execution_count": 54,
   "metadata": {},
   "outputs": [
    {
     "data": {
      "text/plain": [
       "dict_items([('Marsha', 78), ('Baker', 69), ('Rosa', 92), ('Leif', 97), ('Peng', 61), ('Juan', 73), ('Esteban', 84), ('Amir', 91), ('Sakura', 99)])"
      ]
     },
     "execution_count": 54,
     "metadata": {},
     "output_type": "execute_result"
    }
   ],
   "source": [
    "test_scores.items()"
   ]
  },
  {
   "cell_type": "code",
   "execution_count": 55,
   "metadata": {},
   "outputs": [
    {
     "name": "stdout",
     "output_type": "stream",
     "text": [
      "Marsha -> 78\n",
      "Baker -> 69\n",
      "Rosa -> 92\n",
      "Leif -> 97\n",
      "Peng -> 61\n",
      "Juan -> 73\n",
      "Esteban -> 84\n",
      "Amir -> 91\n",
      "Sakura -> 99\n"
     ]
    }
   ],
   "source": [
    "for key, value in test_scores.items():\n",
    "    print(f'{key} -> {value}')"
   ]
  },
  {
   "cell_type": "code",
   "execution_count": 56,
   "metadata": {},
   "outputs": [
    {
     "name": "stdout",
     "output_type": "stream",
     "text": [
      "Sakura is the best student with score: 99\n"
     ]
    }
   ],
   "source": [
    "# find highest score\n",
    "max_score=0\n",
    "best_student=\"\"\n",
    "for key, value in test_scores.items():\n",
    "   # print(f'{key} -> {value}')\n",
    "   if (value> max_score):\n",
    "       max_score= value\n",
    "       best_student = key\n",
    "print(f\"{best_student} is the best student with score: {max_score}\")\n"
   ]
  },
  {
   "cell_type": "markdown",
   "metadata": {},
   "source": [
    "### Updating dictionary\n",
    "update() method will update a dictionary using the key-value pairs from a second dictionary, passed as the argument.\n"
   ]
  },
  {
   "cell_type": "code",
   "execution_count": 57,
   "metadata": {},
   "outputs": [
    {
     "data": {
      "text/plain": [
       "{'cost': 3.5, 'quantity': 12}"
      ]
     },
     "execution_count": 57,
     "metadata": {},
     "output_type": "execute_result"
    }
   ],
   "source": [
    "order[\"quantity\"] = 12\n",
    "order"
   ]
  },
  {
   "cell_type": "code",
   "execution_count": 58,
   "metadata": {},
   "outputs": [
    {
     "data": {
      "text/plain": [
       "{'cost': 3.5, 'quantity': 12, 'product': 'taco', 'date': '03/14/2022'}"
      ]
     },
     "execution_count": 58,
     "metadata": {},
     "output_type": "execute_result"
    }
   ],
   "source": [
    "order.update({\"product\": \"taco\", \"date\": \"03/14/2022\"})\n",
    "order"
   ]
  },
  {
   "cell_type": "markdown",
   "metadata": {},
   "source": [
    "#### Dictionary merging\n",
    "- update and **"
   ]
  },
  {
   "cell_type": "code",
   "execution_count": 59,
   "metadata": {},
   "outputs": [
    {
     "name": "stdout",
     "output_type": "stream",
     "text": [
      "{'a': 1, 'b': 2, 'c': 'Cat', 'd': 'dog', 'e': 5}\n"
     ]
    }
   ],
   "source": [
    "# update\n",
    "d1 ={'a': 1, 'b': 2, 'c': 'Cat','d': 4}\n",
    "d2 = {'d': 'dog', 'e':5}\n",
    "d1.update(d2)\n",
    "print(d1)"
   ]
  },
  {
   "cell_type": "markdown",
   "metadata": {},
   "source": [
    "using magic **"
   ]
  },
  {
   "cell_type": "code",
   "execution_count": 60,
   "metadata": {},
   "outputs": [
    {
     "name": "stdout",
     "output_type": "stream",
     "text": [
      "{'a': 1, 'b': 2, 'c': 'Cat', 'd': 'dog', 'e': 5}\n",
      "{'d': 'dog', 'e': 5}\n"
     ]
    }
   ],
   "source": [
    "print(d1)\n",
    "print(d2)"
   ]
  },
  {
   "cell_type": "code",
   "execution_count": 61,
   "metadata": {},
   "outputs": [
    {
     "data": {
      "text/plain": [
       "{'a': 1, 'b': 2, 'c': 'Cat', 'd': 'dog', 'e': 5}"
      ]
     },
     "execution_count": 61,
     "metadata": {},
     "output_type": "execute_result"
    }
   ],
   "source": [
    "d3= {**d1, **d2}\n",
    "d3"
   ]
  },
  {
   "cell_type": "code",
   "execution_count": 62,
   "metadata": {},
   "outputs": [
    {
     "data": {
      "text/plain": [
       "{'d': 'dog', 'e': 5}"
      ]
     },
     "execution_count": 62,
     "metadata": {},
     "output_type": "execute_result"
    }
   ],
   "source": [
    "d1 = {'a': 1, 'b': 2, 'c': 'Cat'}\n",
    "d2"
   ]
  },
  {
   "cell_type": "code",
   "execution_count": 63,
   "metadata": {},
   "outputs": [
    {
     "data": {
      "text/plain": [
       "{'a': 1, 'b': 2, 'c': 'Cat', 'd': 'dog', 'e': 5}"
      ]
     },
     "execution_count": 63,
     "metadata": {},
     "output_type": "execute_result"
    }
   ],
   "source": [
    "# dict union\n",
    "d3 = d1 | d2\n",
    "d3"
   ]
  },
  {
   "cell_type": "markdown",
   "metadata": {},
   "source": [
    "### List and Dictionary combined"
   ]
  },
  {
   "cell_type": "code",
   "execution_count": 64,
   "metadata": {},
   "outputs": [
    {
     "data": {
      "text/plain": [
       "{'arugala': 1.1,\n",
       " 'basil': 2.54,\n",
       " 'blackberries': 4.93,\n",
       " 'blueberries': 2.88,\n",
       " 'fennel': 3.6}"
      ]
     },
     "execution_count": 64,
     "metadata": {},
     "output_type": "execute_result"
    }
   ],
   "source": [
    "prices"
   ]
  },
  {
   "cell_type": "code",
   "execution_count": 65,
   "metadata": {},
   "outputs": [
    {
     "data": {
      "text/plain": [
       "{'arugala': {'price': 1.1,\n",
       "  'qty': 61,\n",
       "  'organic': True,\n",
       "  'producer': 'Blue Kitty Farms'},\n",
       " 'basil': {'price': 7.15,\n",
       "  'qty': 61,\n",
       "  'organic': False,\n",
       "  'producer': 'Blue Kitty Farms'},\n",
       " 'blackberries': 4.93,\n",
       " 'blueberries': 2.88,\n",
       " 'coconut': 7.15,\n",
       " 'fennel': 3.6}"
      ]
     },
     "execution_count": 65,
     "metadata": {},
     "output_type": "execute_result"
    }
   ],
   "source": [
    "produce={\n",
    "    'arugala':\n",
    "        {'price': 1.1,\n",
    "         'qty': 61,\n",
    "         'organic': True,\n",
    "         'producer': 'Blue Kitty Farms'},\n",
    "    'basil': \n",
    "        {'price': 7.15,\n",
    "         'qty': 61,\n",
    "         'organic': False,\n",
    "         'producer': 'Blue Kitty Farms'}, \n",
    "    'blackberries': 4.93,\n",
    "    'blueberries': 2.88,\n",
    "    'coconut': 7.15,\n",
    "    'fennel': 3.6\n",
    "    }\n",
    "produce"
   ]
  },
  {
   "cell_type": "code",
   "execution_count": 66,
   "metadata": {},
   "outputs": [
    {
     "data": {
      "text/plain": [
       "'Blue Kitty Farms'"
      ]
     },
     "execution_count": 66,
     "metadata": {},
     "output_type": "execute_result"
    }
   ],
   "source": [
    "produce['basil']['producer']"
   ]
  },
  {
   "cell_type": "code",
   "execution_count": 67,
   "metadata": {},
   "outputs": [
    {
     "data": {
      "text/plain": [
       "{'Marsha': [78, 80, 89],\n",
       " 'Baker': [69, 65, 52],\n",
       " 'Rosa': [92, 65, 88],\n",
       " 'Leif': 97,\n",
       " 'Peng': 61,\n",
       " 'Juan': 73,\n",
       " 'Esteban': 84,\n",
       " 'Amir': 91,\n",
       " 'Sakura': 99}"
      ]
     },
     "execution_count": 67,
     "metadata": {},
     "output_type": "execute_result"
    }
   ],
   "source": [
    "# dict and list\n",
    "test_scores= {'Marsha': [78, 80, 89],\n",
    " 'Baker': [69,65, 52],\n",
    " 'Rosa': [92, 65,88],\n",
    " 'Leif': 97,\n",
    " 'Peng': 61,\n",
    " 'Juan': 73,\n",
    " 'Esteban': 84,\n",
    " 'Amir': 91,\n",
    " 'Sakura': 99}\n",
    "test_scores\n"
   ]
  },
  {
   "cell_type": "code",
   "execution_count": 68,
   "metadata": {},
   "outputs": [
    {
     "data": {
      "text/plain": [
       "[{'email': 'tiffy@yahoo.com', 'location': 'Lagos', 'first_name': 'Tiffyany'},\n",
       " {'email': 'john@yahoo.com', 'location': 'Lagos', 'first_name': 'John'}]"
      ]
     },
     "execution_count": 68,
     "metadata": {},
     "output_type": "execute_result"
    }
   ],
   "source": [
    "# list of dictionary\n",
    "wait_list=[\n",
    "   { \"email\": 'tiffy@yahoo.com',\n",
    "    'location': 'Lagos',\n",
    "    'first_name': 'Tiffyany'},\n",
    "   {\"email\": 'john@yahoo.com',\n",
    "    'location': 'Lagos',\n",
    "    'first_name': 'John'}\n",
    "]\n",
    "\n",
    "wait_list"
   ]
  },
  {
   "cell_type": "code",
   "execution_count": 75,
   "metadata": {},
   "outputs": [
    {
     "name": "stdout",
     "output_type": "stream",
     "text": [
      "dict_values(['tiffy@yahoo.com', 'Lagos', 'Tiffyany'])\n",
      "email -> tiffy@yahoo.com\n",
      "location -> Lagos\n",
      "first_name -> Tiffyany\n",
      "dict_values(['john@yahoo.com', 'Lagos', 'John'])\n",
      "email -> john@yahoo.com\n",
      "location -> Lagos\n",
      "first_name -> John\n"
     ]
    }
   ],
   "source": [
    "for dic in wait_list:\n",
    "    print(dic.values())\n",
    "    for key, val in dic.items():\n",
    "        print(f'{key} -> {val}')"
   ]
  },
  {
   "cell_type": "code",
   "execution_count": null,
   "metadata": {},
   "outputs": [],
   "source": []
  }
 ],
 "metadata": {
  "kernelspec": {
   "display_name": "Python 3.10.8 64-bit",
   "language": "python",
   "name": "python3"
  },
  "language_info": {
   "codemirror_mode": {
    "name": "ipython",
    "version": 3
   },
   "file_extension": ".py",
   "mimetype": "text/x-python",
   "name": "python",
   "nbconvert_exporter": "python",
   "pygments_lexer": "ipython3",
   "version": "3.10.8"
  },
  "orig_nbformat": 4,
  "vscode": {
   "interpreter": {
    "hash": "369f2c481f4da34e4445cda3fffd2e751bd1c4d706f27375911949ba6bb62e1c"
   }
  }
 },
 "nbformat": 4,
 "nbformat_minor": 2
}
