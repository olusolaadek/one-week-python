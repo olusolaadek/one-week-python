{
 "cells": [
  {
   "cell_type": "markdown",
   "metadata": {},
   "source": [
    "## OOP\n",
    "modelling 'things' into Python objects"
   ]
  },
  {
   "cell_type": "code",
   "execution_count": 2,
   "metadata": {},
   "outputs": [
    {
     "data": {
      "text/plain": [
       "{'name': 'elton',\n",
       " 'breed': 'autralian shep',\n",
       " 'tricks': ['sit', 'down'],\n",
       " 'available': True}"
      ]
     },
     "execution_count": 2,
     "metadata": {},
     "output_type": "execute_result"
    }
   ],
   "source": [
    "# dictionary approach to modelling data\n",
    "# model a puppy\n",
    "puppy={\n",
    "    'name':'elton',\n",
    "    'breed': 'autralian shep',\n",
    "    'tricks':['sit', 'down'],\n",
    "    'available': True\n",
    "}\n",
    "puppy"
   ]
  },
  {
   "cell_type": "code",
   "execution_count": 3,
   "metadata": {},
   "outputs": [
    {
     "data": {
      "text/plain": [
       "'elton'"
      ]
     },
     "execution_count": 3,
     "metadata": {},
     "output_type": "execute_result"
    }
   ],
   "source": [
    "puppy['name']"
   ]
  },
  {
   "cell_type": "code",
   "execution_count": 4,
   "metadata": {},
   "outputs": [
    {
     "data": {
      "text/plain": [
       "dict_items([('name', 'elton'), ('breed', 'autralian shep'), ('tricks', ['sit', 'down']), ('available', True)])"
      ]
     },
     "execution_count": 4,
     "metadata": {},
     "output_type": "execute_result"
    }
   ],
   "source": [
    "puppy.items()"
   ]
  },
  {
   "cell_type": "code",
   "execution_count": 5,
   "metadata": {},
   "outputs": [
    {
     "data": {
      "text/plain": [
       "dict_keys(['name', 'breed', 'tricks', 'available'])"
      ]
     },
     "execution_count": 5,
     "metadata": {},
     "output_type": "execute_result"
    }
   ],
   "source": [
    "puppy.keys()"
   ]
  },
  {
   "cell_type": "code",
   "execution_count": 13,
   "metadata": {},
   "outputs": [
    {
     "name": "stdout",
     "output_type": "stream",
     "text": [
      "elton\n"
     ]
    }
   ],
   "source": [
    "print(puppy.get('name'))"
   ]
  },
  {
   "cell_type": "code",
   "execution_count": 10,
   "metadata": {},
   "outputs": [
    {
     "data": {
      "text/plain": [
       "'elton'"
      ]
     },
     "execution_count": 10,
     "metadata": {},
     "output_type": "execute_result"
    }
   ],
   "source": [
    "puppy['name']"
   ]
  },
  {
   "cell_type": "code",
   "execution_count": 17,
   "metadata": {},
   "outputs": [
    {
     "name": "stdout",
     "output_type": "stream",
     "text": [
      "sit\n"
     ]
    }
   ],
   "source": [
    "print(puppy.get('tricks')[0])"
   ]
  },
  {
   "cell_type": "markdown",
   "metadata": {},
   "source": [
    "Class Definition"
   ]
  },
  {
   "cell_type": "code",
   "execution_count": 18,
   "metadata": {},
   "outputs": [],
   "source": [
    "class Puppy:\n",
    "    def __init__(self, name) :\n",
    "        self.name = name\n",
    "        self.tricks =[]"
   ]
  },
  {
   "cell_type": "code",
   "execution_count": 20,
   "metadata": {},
   "outputs": [
    {
     "name": "stdout",
     "output_type": "stream",
     "text": [
      "Elton\n",
      "[]\n"
     ]
    }
   ],
   "source": [
    "elton = Puppy('Elton')\n",
    "print(elton.name)\n",
    "print(elton.tricks)"
   ]
  },
  {
   "cell_type": "code",
   "execution_count": 23,
   "metadata": {},
   "outputs": [
    {
     "name": "stdout",
     "output_type": "stream",
     "text": [
      "Name: Lucky, Tricks: ['sit', 'down']\n"
     ]
    }
   ],
   "source": [
    "lucky = Puppy('Lucky')\n",
    "lucky.tricks =[\"sit\", 'down']\n",
    "print(f'Name: {lucky.name}, Tricks: {lucky.tricks}')"
   ]
  },
  {
   "cell_type": "code",
   "execution_count": 90,
   "metadata": {},
   "outputs": [
    {
     "data": {
      "text/plain": [
       "'class Dog:\\n    def __init__(self, name, breed, location) :\\n        self.name= name\\n        self.breed = breed\\n        self.location = location\\n        self.tricks=[]\\n        '"
      ]
     },
     "execution_count": 90,
     "metadata": {},
     "output_type": "execute_result"
    }
   ],
   "source": [
    "\"\"\"class Dog:\n",
    "    def __init__(self, name, breed, location) :\n",
    "        self.name= name\n",
    "        self.breed = breed\n",
    "        self.location = location\n",
    "        self.tricks=[]\n",
    "        \"\"\""
   ]
  },
  {
   "cell_type": "code",
   "execution_count": 53,
   "metadata": {},
   "outputs": [],
   "source": [
    "otter = Dog('Otter', 'Husky', 89756)"
   ]
  },
  {
   "cell_type": "code",
   "execution_count": 54,
   "metadata": {},
   "outputs": [
    {
     "data": {
      "text/plain": [
       "False"
      ]
     },
     "execution_count": 54,
     "metadata": {},
     "output_type": "execute_result"
    }
   ],
   "source": [
    "isinstance(otter, Puppy)"
   ]
  },
  {
   "cell_type": "code",
   "execution_count": 55,
   "metadata": {},
   "outputs": [
    {
     "data": {
      "text/plain": [
       "True"
      ]
     },
     "execution_count": 55,
     "metadata": {},
     "output_type": "execute_result"
    }
   ],
   "source": [
    "isinstance(otter, Dog)"
   ]
  },
  {
   "cell_type": "code",
   "execution_count": 56,
   "metadata": {},
   "outputs": [
    {
     "data": {
      "text/plain": [
       "'Otter'"
      ]
     },
     "execution_count": 56,
     "metadata": {},
     "output_type": "execute_result"
    }
   ],
   "source": [
    "otter.name"
   ]
  },
  {
   "cell_type": "code",
   "execution_count": 57,
   "metadata": {},
   "outputs": [
    {
     "data": {
      "text/plain": [
       "89756"
      ]
     },
     "execution_count": 57,
     "metadata": {},
     "output_type": "execute_result"
    }
   ],
   "source": [
    "otter.location"
   ]
  },
  {
   "cell_type": "code",
   "execution_count": 91,
   "metadata": {},
   "outputs": [],
   "source": [
    "otter.breed\n",
    "del Dog"
   ]
  },
  {
   "cell_type": "code",
   "execution_count": 59,
   "metadata": {},
   "outputs": [
    {
     "data": {
      "text/plain": [
       "[]"
      ]
     },
     "execution_count": 59,
     "metadata": {},
     "output_type": "execute_result"
    }
   ],
   "source": [
    "otter.tricks"
   ]
  },
  {
   "cell_type": "code",
   "execution_count": 100,
   "metadata": {},
   "outputs": [],
   "source": [
    "# import animal module\n",
    "# from  animals.py import Dog\n",
    "# adding methods\n",
    "class Dog:\n",
    "    def __init__(self, name, breed, location):\n",
    "        self.name = name\n",
    "        self.breed = breed\n",
    "        self.location = location\n",
    "        self.tricks = []\n",
    "\n",
    "    def add_trick(self, new_trick):\n",
    "        self.tricks.append(new_trick)\n",
    "\n",
    "    def bark(self):\n",
    "        print(f'{self.name} says WOOF!')\n",
    "\n",
    "    def learn_trick(self, new_trick):\n",
    "        if (new_trick not in self.tricks):\n",
    "            self.tricks.append(new_trick)\n",
    "\n",
    "    def perform_trick(self, trick):\n",
    "        if trick in self.tricks:\n",
    "            print(f\"{self.name} performs {trick}  \")\n",
    "        else:\n",
    "            print(f\"{self.name} does not know {trick}  \")\n",
    "\n"
   ]
  },
  {
   "cell_type": "code",
   "execution_count": 101,
   "metadata": {},
   "outputs": [
    {
     "name": "stdout",
     "output_type": "stream",
     "text": [
      "Otter says WOOF!\n",
      "Otter performs spin  \n"
     ]
    }
   ],
   "source": [
    "otter = Dog('Otter', 'Husky', 89756)\n",
    "otter.add_trick('jump')\n",
    "otter.add_trick('sit')\n",
    "otter.bark()\n",
    "otter.learn_trick('stand')\n",
    "otter.learn_trick('spin')\n",
    "otter.perform_trick('spin')\n"
   ]
  },
  {
   "cell_type": "code",
   "execution_count": 102,
   "metadata": {},
   "outputs": [
    {
     "name": "stdout",
     "output_type": "stream",
     "text": [
      "name:  Otter\n",
      "tricks:  ['jump', 'sit', 'stand', 'spin']\n",
      "Otter says WOOF!\n"
     ]
    }
   ],
   "source": [
    "print('name: ', otter.name)\n",
    "print('tricks: ', otter.tricks)\n",
    "otter.bark()\n"
   ]
  },
  {
   "cell_type": "markdown",
   "metadata": {},
   "source": [
    "### Class Attributes\n"
   ]
  },
  {
   "cell_type": "code",
   "execution_count": 103,
   "metadata": {},
   "outputs": [],
   "source": [
    "class Puppy:\n",
    "    species ='canine' # clas attribute/field\n",
    "    def __init__(self, name) :\n",
    "        self.name = name\n",
    "        self.tricks =[]"
   ]
  },
  {
   "cell_type": "code",
   "execution_count": 104,
   "metadata": {},
   "outputs": [
    {
     "data": {
      "text/plain": [
       "'canine'"
      ]
     },
     "execution_count": 104,
     "metadata": {},
     "output_type": "execute_result"
    }
   ],
   "source": [
    "teni = Puppy('Teni')\n",
    "teni.species"
   ]
  },
  {
   "cell_type": "code",
   "execution_count": 105,
   "metadata": {},
   "outputs": [
    {
     "data": {
      "text/plain": [
       "'canine'"
      ]
     },
     "execution_count": 105,
     "metadata": {},
     "output_type": "execute_result"
    }
   ],
   "source": [
    "Puppy.species"
   ]
  },
  {
   "cell_type": "code",
   "execution_count": 106,
   "metadata": {},
   "outputs": [
    {
     "data": {
      "text/plain": [
       "'Unknown'"
      ]
     },
     "execution_count": 106,
     "metadata": {},
     "output_type": "execute_result"
    }
   ],
   "source": [
    "Puppy.species ='Unknown'\n",
    "Puppy.species"
   ]
  },
  {
   "cell_type": "code",
   "execution_count": 109,
   "metadata": {},
   "outputs": [],
   "source": [
    "# import animal module\n",
    "# from  animals.py import Dog\n",
    "# adding methods\n",
    "class Dog:\n",
    "    species ='canine'\n",
    "    num_dogs = 0\n",
    "    def __init__(self, name, breed, location):\n",
    "        self.name = name\n",
    "        self.breed = breed\n",
    "        self.location = location\n",
    "        self.tricks = []\n",
    "        Dog.num_dogs +=1\n",
    "\n",
    "    def add_trick(self, new_trick):\n",
    "        self.tricks.append(new_trick)\n",
    "\n",
    "    def bark(self):\n",
    "        print(f'{self.name} says WOOF!')\n",
    "\n",
    "    def learn_trick(self, new_trick):\n",
    "        if (new_trick not in self.tricks):\n",
    "            self.tricks.append(new_trick)\n",
    "\n",
    "    def perform_trick(self, trick):\n",
    "        if trick in self.tricks:\n",
    "            print(f\"{self.name} performs {trick}  \")\n",
    "        else:\n",
    "            print(f\"{self.name} does not know {trick}  \")\n"
   ]
  },
  {
   "cell_type": "code",
   "execution_count": 110,
   "metadata": {},
   "outputs": [
    {
     "data": {
      "text/plain": [
       "1"
      ]
     },
     "execution_count": 110,
     "metadata": {},
     "output_type": "execute_result"
    }
   ],
   "source": [
    "dog1 = Dog('Elba', 'local','Ago-Are')\n",
    "Dog.num_dogs\n"
   ]
  },
  {
   "cell_type": "code",
   "execution_count": 111,
   "metadata": {},
   "outputs": [
    {
     "data": {
      "text/plain": [
       "2"
      ]
     },
     "execution_count": 111,
     "metadata": {},
     "output_type": "execute_result"
    }
   ],
   "source": [
    "dog2 = Dog('White', 'Puppy', 'Ago-Are')\n",
    "Dog.num_dogs\n"
   ]
  },
  {
   "cell_type": "markdown",
   "metadata": {},
   "source": [
    "### Class methods"
   ]
  },
  {
   "cell_type": "code",
   "execution_count": 125,
   "metadata": {},
   "outputs": [],
   "source": [
    "# import animal module\n",
    "# from  animals.py import Dog\n",
    "# adding methods\n",
    "class Dog:\n",
    "    species = 'canine'\n",
    "    num_dogs = 0\n",
    "\n",
    "    @classmethod\n",
    "    def register_stray(cls):\n",
    "       return cls ('Coming soon', 'unknown', 'unknow')\n",
    "    def __init__(self, name, breed, location):\n",
    "        self.name = name\n",
    "        self.breed = breed\n",
    "        self.location = location\n",
    "        self.tricks = []\n",
    "        Dog.num_dogs += 1\n",
    "\n",
    "    def add_trick(self, new_trick):\n",
    "        self.tricks.append(new_trick)\n",
    "\n",
    "    def bark(self):\n",
    "        print(f'{self.name} says WOOF!')\n",
    "\n",
    "    def learn_trick(self, new_trick):\n",
    "        if (new_trick not in self.tricks):\n",
    "            self.tricks.append(new_trick)\n",
    "\n",
    "    def perform_trick(self, trick):\n",
    "        if trick in self.tricks:\n",
    "            print(f\"{self.name} performs {trick}  \")\n",
    "        else:\n",
    "            print(f\"{self.name} does not know {trick}  \")\n"
   ]
  },
  {
   "cell_type": "code",
   "execution_count": 128,
   "metadata": {},
   "outputs": [
    {
     "data": {
      "text/plain": [
       "<__main__.Dog at 0x2e1356221a0>"
      ]
     },
     "execution_count": 128,
     "metadata": {},
     "output_type": "execute_result"
    }
   ],
   "source": [
    "Dog.register_stray()\n"
   ]
  },
  {
   "cell_type": "code",
   "execution_count": 129,
   "metadata": {},
   "outputs": [
    {
     "data": {
      "text/plain": [
       "'Coming soon'"
      ]
     },
     "execution_count": 129,
     "metadata": {},
     "output_type": "execute_result"
    }
   ],
   "source": [
    "dog1 = Dog.register_stray()\n",
    "dog1.name"
   ]
  },
  {
   "cell_type": "code",
   "execution_count": 131,
   "metadata": {},
   "outputs": [
    {
     "name": "stdout",
     "output_type": "stream",
     "text": [
      "Coming soon says WOOF!\n"
     ]
    }
   ],
   "source": [
    "dog1.bark()"
   ]
  },
  {
   "cell_type": "markdown",
   "metadata": {},
   "source": [
    "### Inheritance"
   ]
  },
  {
   "cell_type": "code",
   "execution_count": 132,
   "metadata": {},
   "outputs": [],
   "source": [
    "class Cat:\n",
    "    def __init__(self, name) -> None:\n",
    "        self.name = name\n",
    "\n",
    "    def meow(self):\n",
    "        print(f\"{self.name} meows\")\n",
    "\n",
    "\n",
    "class Lion(Cat):\n",
    "    def roar(self):\n",
    "        print(f'{self.name} roars ')\n"
   ]
  },
  {
   "cell_type": "code",
   "execution_count": 133,
   "metadata": {},
   "outputs": [
    {
     "name": "stdout",
     "output_type": "stream",
     "text": [
      "Elsa meows\n"
     ]
    }
   ],
   "source": [
    "# test\n",
    "elsa = Cat('Elsa')\n",
    "elsa.meow()\n"
   ]
  },
  {
   "cell_type": "code",
   "execution_count": 134,
   "metadata": {},
   "outputs": [
    {
     "name": "stdout",
     "output_type": "stream",
     "text": [
      "Jundler meows\n",
      "Jundler roars \n"
     ]
    }
   ],
   "source": [
    "lion = Lion('Jundler')\n",
    "lion.meow()\n",
    "lion.roar()\n"
   ]
  },
  {
   "cell_type": "markdown",
   "metadata": {},
   "source": []
  },
  {
   "cell_type": "code",
   "execution_count": null,
   "metadata": {},
   "outputs": [],
   "source": []
  }
 ],
 "metadata": {
  "kernelspec": {
   "display_name": "Python 3.10.8 64-bit",
   "language": "python",
   "name": "python3"
  },
  "language_info": {
   "codemirror_mode": {
    "name": "ipython",
    "version": 3
   },
   "file_extension": ".py",
   "mimetype": "text/x-python",
   "name": "python",
   "nbconvert_exporter": "python",
   "pygments_lexer": "ipython3",
   "version": "3.10.8"
  },
  "orig_nbformat": 4,
  "vscode": {
   "interpreter": {
    "hash": "369f2c481f4da34e4445cda3fffd2e751bd1c4d706f27375911949ba6bb62e1c"
   }
  }
 },
 "nbformat": 4,
 "nbformat_minor": 2
}
